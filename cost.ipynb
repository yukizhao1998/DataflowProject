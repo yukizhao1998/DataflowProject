{
 "cells": [
  {
   "cell_type": "code",
   "execution_count": 1,
   "metadata": {},
   "outputs": [],
   "source": [
    "import numpy as np\n",
    "import math"
   ]
  },
  {
   "cell_type": "code",
   "execution_count": 2,
   "metadata": {},
   "outputs": [
    {
     "data": {
      "text/plain": [
       "array([[0, 1, 4, 2, 2, 1, 4, 5, 4, 3, 3, 2, 2, 3, 1, 2, 3],\n",
       "       [1, 0, 3, 1, 2, 2, 3, 4, 4, 3, 2, 2, 1, 2, 2, 3, 2],\n",
       "       [4, 3, 0, 3, 3, 4, 2, 1, 1, 2, 1, 4, 2, 2, 4, 3, 3],\n",
       "       [2, 1, 3, 0, 3, 3, 3, 4, 3, 2, 2, 1, 2, 1, 2, 2, 1],\n",
       "       [2, 2, 3, 3, 0, 1, 3, 4, 4, 5, 2, 4, 1, 3, 3, 4, 4],\n",
       "       [1, 2, 4, 3, 1, 0, 4, 5, 5, 4, 3, 3, 2, 4, 2, 3, 4],\n",
       "       [4, 3, 2, 3, 3, 4, 0, 2, 1, 2, 1, 4, 2, 2, 4, 3, 3],\n",
       "       [5, 4, 1, 4, 4, 5, 2, 0, 1, 2, 2, 4, 3, 3, 4, 3, 3],\n",
       "       [4, 4, 1, 3, 4, 5, 1, 1, 0, 1, 2, 3, 3, 3, 3, 2, 2],\n",
       "       [3, 3, 2, 2, 5, 4, 2, 2, 1, 0, 3, 2, 4, 3, 2, 1, 1],\n",
       "       [3, 2, 1, 2, 2, 3, 1, 2, 2, 3, 0, 3, 1, 1, 4, 4, 3],\n",
       "       [2, 2, 4, 1, 4, 3, 4, 4, 3, 2, 3, 0, 3, 2, 1, 1, 2],\n",
       "       [2, 1, 2, 2, 1, 2, 2, 3, 3, 4, 1, 3, 0, 2, 3, 4, 3],\n",
       "       [3, 2, 2, 1, 3, 4, 2, 3, 3, 3, 1, 2, 2, 0, 3, 3, 2],\n",
       "       [1, 2, 4, 2, 3, 2, 4, 4, 3, 2, 4, 1, 3, 3, 0, 1, 3],\n",
       "       [2, 3, 3, 2, 4, 3, 3, 3, 2, 1, 4, 1, 4, 3, 1, 0, 2],\n",
       "       [3, 2, 3, 1, 4, 4, 3, 3, 2, 1, 3, 2, 3, 2, 3, 2, 0]])"
      ]
     },
     "execution_count": 2,
     "metadata": {},
     "output_type": "execute_result"
    }
   ],
   "source": [
    "d = {\n",
    "    \"Amsterdam\": 0,\n",
    "    \"Brussels\": 1,\n",
    "    \"Bordeaux\": 2,\n",
    "    \"Franckfort\": 3,\n",
    "    \"Gravelines\": 4,\n",
    "    \"London\": 5,\n",
    "    \"Lyon\": 6,\n",
    "    \"Madrid\": 7,\n",
    "    \"Marseille\": 8,\n",
    "    \"Milano\": 9,\n",
    "    \"Paris\": 10,\n",
    "    \"Prague\": 11,\n",
    "    \"Roubaix\": 12,\n",
    "    \"Strasbourg\": 13,\n",
    "    \"Warszawa\": 14,\n",
    "    \"Wien\": 15,\n",
    "    \"Zurich\": 16\n",
    "}\n",
    "\n",
    "dis = np.array([\n",
    "    [0, 1, 4, 2, 2, 1, 4, 5, 4, 3, 3, 2, 2, 3, 1, 2, 3],\n",
    "    [1, 0, 3, 1, 2, 2, 3, 4, 4, 3, 2, 2, 1, 2, 2, 3, 2],\n",
    "    [4, 3, 0, 3, 3, 4, 2, 1, 1, 2, 1, 4, 2, 2, 4, 3, 3],\n",
    "    [2, 1, 3, 0, 3, 3, 3, 4, 3, 2, 2, 1, 2, 1, 2, 2, 1],\n",
    "    [2, 2, 3, 3, 0, 1, 3, 4, 4, 5, 2, 4, 1, 3, 3, 4, 4],\n",
    "    [1, 2, 4, 3, 1, 0, 4, 5, 5, 4, 3, 3, 2, 4, 2, 3, 4],\n",
    "    [4, 3, 2, 3, 3, 4, 0, 2, 1, 2, 1, 4, 2, 2, 4, 3, 3],\n",
    "    [5, 4, 1, 4, 4, 5, 2, 0, 1, 2, 2, 4, 3, 3, 4, 3, 3],\n",
    "    [4, 4, 1, 3, 4, 5, 1, 1, 0, 1, 2, 3, 3, 3, 3, 2, 2],\n",
    "    [3, 3, 2, 2, 5, 4, 2, 2, 1, 0, 3, 2, 4, 3, 2, 1, 1],\n",
    "    [3, 2, 1, 2, 2, 3, 1, 2, 2, 3, 0, 3, 1, 1, 4, 4, 3],\n",
    "    [2, 2, 4, 1, 4, 3, 4, 4, 3, 2, 3, 0, 3, 2, 1, 1, 2],\n",
    "    [2, 1, 2, 2, 1, 2, 2, 3, 3, 4, 1, 3, 0, 2, 3, 4, 3],\n",
    "    [3, 2, 2, 1, 3, 4, 2, 3, 3, 3, 1, 2, 2, 0, 3, 3, 2],\n",
    "    [1, 2, 4, 2, 3, 2, 4, 4, 3, 2, 4, 1, 3, 3, 0, 1, 3],\n",
    "    [2, 3, 3, 2, 4, 3, 3, 3, 2, 1, 4, 1, 4, 3, 1, 0, 2],\n",
    "    [3, 2, 3, 1, 4, 4, 3, 3, 2, 1, 3, 2, 3 ,2, 3, 2, 0]\n",
    "])\n",
    "\n",
    "dis"
   ]
  },
  {
   "cell_type": "code",
   "execution_count": 3,
   "metadata": {},
   "outputs": [
    {
     "data": {
      "text/plain": [
       "array([[  0, 280, 120, 280,  40,  40, 200,  40,  10,  10, 200,  80, 280,\n",
       "         60,  60,  80,  50],\n",
       "       [280,   0, 120, 280, 380,  40,  80,  40,  80,  50, 200,  90, 600,\n",
       "         60,  80,  80,  50],\n",
       "       [120, 120,   0,  60, 120, 120,  80,  40,  80,  10, 120,  60, 120,\n",
       "         60,  10,  10,  10],\n",
       "       [280, 280,  60,   0, 280,  40,  60,  40,  10,  50,  60,  90, 280,\n",
       "         60,  80,  80,  50],\n",
       "       [ 40, 380, 120, 280,   0, 480,  80,  40,  80,  50, 200,  90, 380,\n",
       "         60,  40,  40,  50],\n",
       "       [ 40,  40, 120,  40, 480,   0,  80,  40,  80,  10, 200,  40, 380,\n",
       "         60,  40,  40,  40],\n",
       "       [200,  80,  80,  60,  80,  80,   0,  40,  80,  10,  80,  60,  80,\n",
       "         60,  10,  10,  10],\n",
       "       [ 40,  40,  40,  40,  40,  40,  40,   0,  40,  10,  40,  10,  40,\n",
       "         40,  10,  10,  10],\n",
       "       [ 10,  80,  80,  10,  80,  80,  80,  40,   0,  10,  80,  10,  80,\n",
       "         60,  10,  10,  10],\n",
       "       [ 10,  50,  10,  50,  50,  10,  10,  10,  10,   0,  10,  10,  50,\n",
       "         50,  10,  10,  50],\n",
       "       [200, 200, 120,  60, 200, 200,  80,  40,  80,  10,   0,  60, 200,\n",
       "         60,  80,  60,  50],\n",
       "       [ 80,  90,  60,  90,  90,  40,  60,  10,  10,  10,  60,   0,  90,\n",
       "         60,  80,  80,  50],\n",
       "       [280, 600, 120, 280, 380, 380,  80,  40,  80,  50, 200,  90,   0,\n",
       "         60,  80,  80,  50],\n",
       "       [ 60,  60,  60,  60,  60,  60,  60,  40,  60,  50,  60,  60,  60,\n",
       "          0,  60,  60,  50],\n",
       "       [ 80,  80,  10,  80,  40,  40,  10,  10,  10,  10,  80,  80,  80,\n",
       "         60,   0,  80,  50],\n",
       "       [ 80,  80,  10,  80,  40,  40,  10,  10,  10,  10,  60,  80,  80,\n",
       "         60,  80,   0,  10],\n",
       "       [ 50,  50,  10,  50,  50,  40,  10,  10,  10,  50,  50,  50,  50,\n",
       "         50,  50,  10,   0]])"
      ]
     },
     "execution_count": 3,
     "metadata": {},
     "output_type": "execute_result"
    }
   ],
   "source": [
    "bw = np.array([\n",
    "    [0, 280, 120, 280, 40, 40, 200, 40, 10, 10, 200, 80, 280, 60, 60, 80, 50],\n",
    "    [280, 0, 120, 280, 380, 40, 80, 40, 80, 50, 200, 90, 600, 60, 80, 80, 50],\n",
    "    [120, 120, 0, 60, 120, 120, 80, 40, 80, 10, 120, 60, 120, 60, 10, 10, 10],\n",
    "    [280, 280, 60, 0, 280, 40, 60, 40, 10, 50, 60, 90, 280, 60, 80, 80, 50],\n",
    "    [40, 380, 120, 280, 0, 480, 80, 40, 80, 50, 200, 90, 380, 60, 40, 40, 50],\n",
    "    [40, 40, 120, 40, 480, 0, 80, 40, 80, 10, 200, 40, 380, 60, 40, 40, 40],\n",
    "    [200, 80, 80, 60, 80, 80, 0, 40, 80, 10, 80, 60, 80, 60, 10, 10, 10],\n",
    "    [40, 40, 40, 40, 40, 40, 40, 0, 40, 10, 40, 10, 40, 40, 10, 10, 10],\n",
    "    [10, 80, 80, 10, 80, 80, 80, 40, 0, 10, 80, 10, 80, 60, 10, 10, 10],\n",
    "    [10, 50, 10, 50, 50, 10, 10, 10, 10, 0, 10, 10, 50, 50, 10, 10, 50],\n",
    "    [200, 200, 120, 60, 200, 200, 80, 40, 80, 10, 0, 60, 200, 60, 80, 60, 50],\n",
    "    [80, 90, 60, 90, 90, 40, 60, 10, 10, 10, 60, 0, 90, 60, 80, 80, 50],\n",
    "    [280, 600, 120, 280, 380, 380, 80, 40, 80, 50, 200, 90, 0, 60, 80, 80, 50],\n",
    "    [60, 60, 60, 60, 60, 60, 60, 40, 60, 50, 60, 60, 60, 0, 60, 60, 50],\n",
    "    [80, 80, 10, 80, 40, 40, 10, 10, 10, 10, 80, 80, 80, 60, 0, 80, 50],\n",
    "    [80, 80, 10, 80, 40, 40, 10, 10, 10, 10, 60, 80, 80, 60, 80, 0, 10],\n",
    "    [50, 50, 10, 50, 50, 40, 10, 10, 10, 50, 50, 50, 50, 50, 50, 10, 0]\n",
    "])\n",
    "bw"
   ]
  },
  {
   "cell_type": "code",
   "execution_count": 4,
   "metadata": {},
   "outputs": [
    {
     "data": {
      "text/plain": [
       "array([[ 1,  3,  6,  4, 10,  9,  5, 11, 33, 33,  4,  6,  4,  8,  7,  6,\n",
       "         9],\n",
       "       [ 3,  1,  5,  3,  3, 10,  7, 11,  7,  9,  4,  6,  2,  7,  6,  7,\n",
       "         8],\n",
       "       [ 6,  5,  1,  8,  5,  6,  6,  9,  6, 32,  4,  8,  5,  7, 33, 33,\n",
       "        33],\n",
       "       [ 4,  3,  8,  1,  4, 10,  8, 11, 33,  8,  7,  5,  4,  7,  6,  6,\n",
       "         8],\n",
       "       [10,  3,  5,  4,  1,  3,  7, 11,  7, 10,  4,  7,  3,  8, 10, 11,\n",
       "         9],\n",
       "       [ 9, 10,  6, 10,  3,  1,  7, 11,  8, 33,  4, 10,  3,  8, 10, 10,\n",
       "        11],\n",
       "       [ 5,  7,  6,  8,  7,  7,  1, 10,  6, 32,  6,  8,  6,  7, 33, 33,\n",
       "        33],\n",
       "       [11, 11,  9, 11, 11, 11, 10,  1,  9, 32, 10, 33, 10, 10, 33, 33,\n",
       "        33],\n",
       "       [33,  7,  6, 33,  7,  8,  6,  9,  1, 32,  6, 33,  7,  8, 33, 32,\n",
       "        32],\n",
       "       [33,  9, 32,  8, 10, 33, 32, 32, 32,  1, 33, 32,  9,  9, 32, 32,\n",
       "         8],\n",
       "       [ 4,  4,  4,  7,  4,  4,  6, 10,  6, 33,  1,  8,  3,  7,  7,  8,\n",
       "         9],\n",
       "       [ 6,  6,  8,  5,  7, 10,  8, 33, 33, 32,  8,  1,  6,  7,  6,  6,\n",
       "         8],\n",
       "       [ 4,  2,  5,  4,  3,  3,  6, 10,  7,  9,  3,  6,  1,  7,  7,  7,\n",
       "         9],\n",
       "       [ 8,  7,  7,  7,  8,  8,  7, 10,  8,  9,  7,  7,  7,  1,  8,  8,\n",
       "         8],\n",
       "       [ 6,  6, 33,  6, 10, 10, 33, 33, 33, 32,  7,  6,  7,  8,  1,  6,\n",
       "         9],\n",
       "       [ 6,  7, 33,  6, 11, 10, 33, 33, 32, 32,  8,  6,  7,  8,  6,  1,\n",
       "        32],\n",
       "       [ 9,  8, 33,  8,  9, 11, 33, 33, 32,  8,  9,  8,  9,  8,  9, 32,\n",
       "         1]])"
      ]
     },
     "execution_count": 4,
     "metadata": {},
     "output_type": "execute_result"
    }
   ],
   "source": [
    "cost = np.zeros((17, 17), dtype=int)\n",
    "alpha = 0.5\n",
    "T = 600\n",
    "for i in range(17):\n",
    "    for j in range(17):\n",
    "        if bw[i][j]:\n",
    "            cost[i][j] = math.ceil(1 + alpha * dis[i][j] + (1 - alpha) * T / bw[i][j])\n",
    "        else:\n",
    "            cost[i][j] = 1\n",
    "cost"
   ]
  },
  {
   "cell_type": "code",
   "execution_count": 13,
   "metadata": {},
   "outputs": [
    {
     "data": {
      "image/png": "[encoded data removed]",
      "text/plain": [
       "<Figure size 432x288 with 1 Axes>"
      ]
     },
     "metadata": {
      "needs_background": "light"
     },
     "output_type": "display_data"
    }
   ],
   "source": [
    "costs = cost.flatten()\n",
    "import matplotlib.pyplot as plt\n",
    "plt.hist(costs,100)\n",
    "plt.xlabel('Access Cost')\n",
    "plt.ylabel('F')\n",
    "plt.show()"
   ]
  },
  {
   "cell_type": "code",
   "execution_count": null,
   "metadata": {},
   "outputs": [],
   "source": []
  }
 ],
 "metadata": {
  "kernelspec": {
   "display_name": "Python 3",
   "language": "python",
   "name": "python3"
  },
  "language_info": {
   "codemirror_mode": {
    "name": "ipython",
    "version": 3
   },
   "file_extension": ".py",
   "mimetype": "text/x-python",
   "name": "python",
   "nbconvert_exporter": "python",
   "pygments_lexer": "ipython3",
   "version": "3.7.0"
  }
 },
 "nbformat": 4,
 "nbformat_minor": 2
}
